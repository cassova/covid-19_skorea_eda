{
 "cells": [
  {
   "cell_type": "code",
   "execution_count": 1,
   "metadata": {},
   "outputs": [
    {
     "data": {
      "text/plain": [
       "0.9900661159875807"
      ]
     },
     "execution_count": 1,
     "metadata": {},
     "output_type": "execute_result"
    },
    {
     "data": {
      "image/png": "[encoded data removed]",
      "text/plain": [
       "<Figure size 432x288 with 1 Axes>"
      ]
     },
     "metadata": {
      "needs_background": "light"
     },
     "output_type": "display_data"
    }
   ],
   "source": [
    "import pandas as pd\n",
    "import numpy as np\n",
    "\n",
    "df = pd.read_csv('./data/TimeAge.csv', index_col='date')\n",
    "df = df.loc[\"2020-06-30\"] # use the final numbers\n",
    "df[\"age\"] = df.age.str.replace(\"s\",\"\").astype(int)\n",
    "df = df[df.age>=30] #exclude 0,10,20s because there are no deaths\n",
    "df[\"log_ratio\"] = np.log(df.deceased/df.confirmed)\n",
    "\n",
    "df.plot.scatter(x=\"age\",y=\"log_ratio\")\n",
    "\n",
    "# look at this correlation!\n",
    "df.age.corr(df.log_ratio)"
   ]
  }
 ],
 "metadata": {
  "kernelspec": {
   "display_name": "Python 3",
   "language": "python",
   "name": "python3"
  },
  "language_info": {
   "codemirror_mode": {
    "name": "ipython",
    "version": 3
   },
   "file_extension": ".py",
   "mimetype": "text/x-python",
   "name": "python",
   "nbconvert_exporter": "python",
   "pygments_lexer": "ipython3",
   "version": "3.8.5"
  }
 },
 "nbformat": 4,
 "nbformat_minor": 4
}
