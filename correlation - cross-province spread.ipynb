{
 "cells": [
  {
   "cell_type": "code",
   "execution_count": 1,
   "metadata": {},
   "outputs": [],
   "source": [
    "import numpy as np\n",
    "import pandas as pd\n",
    "import matplotlib as mpl\n",
    "import matplotlib.pyplot as plt\n",
    "import matplotlib.colors as mcolors\n",
    "from matplotlib.animation import FuncAnimation, FFMpegWriter  \n",
    "import datetime\n",
    "import geopandas"
   ]
  },
  {
   "cell_type": "code",
   "execution_count": 2,
   "metadata": {},
   "outputs": [
    {
     "data": {
      "text/html": [
       "<div>\n",
       "<style scoped>\n",
       "    .dataframe tbody tr th:only-of-type {\n",
       "        vertical-align: middle;\n",
       "    }\n",
       "\n",
       "    .dataframe tbody tr th {\n",
       "        vertical-align: top;\n",
       "    }\n",
       "\n",
       "    .dataframe thead th {\n",
       "        text-align: right;\n",
       "    }\n",
       "</style>\n",
       "<table border=\"1\" class=\"dataframe\">\n",
       "  <thead>\n",
       "    <tr style=\"text-align: right;\">\n",
       "      <th></th>\n",
       "      <th>province</th>\n",
       "      <th>infected_by</th>\n",
       "      <th>confirmed_date</th>\n",
       "    </tr>\n",
       "    <tr>\n",
       "      <th>patient_id</th>\n",
       "      <th></th>\n",
       "      <th></th>\n",
       "      <th></th>\n",
       "    </tr>\n",
       "  </thead>\n",
       "  <tbody>\n",
       "    <tr>\n",
       "      <th>1000000003</th>\n",
       "      <td>Seoul</td>\n",
       "      <td>2002000001</td>\n",
       "      <td>2020-01-30</td>\n",
       "    </tr>\n",
       "    <tr>\n",
       "      <th>1000000062</th>\n",
       "      <td>Seoul</td>\n",
       "      <td>2017000005</td>\n",
       "      <td>2020-02-28</td>\n",
       "    </tr>\n",
       "    <tr>\n",
       "      <th>5000000022</th>\n",
       "      <td>Jeollabuk-do</td>\n",
       "      <td>1500000050, 1500000055</td>\n",
       "      <td>2020-06-17</td>\n",
       "    </tr>\n",
       "    <tr>\n",
       "      <th>5100000022</th>\n",
       "      <td>Jeollanam-do</td>\n",
       "      <td>12702</td>\n",
       "      <td>2020-06-27</td>\n",
       "    </tr>\n",
       "    <tr>\n",
       "      <th>5100000023</th>\n",
       "      <td>Jeollanam-do</td>\n",
       "      <td>12702</td>\n",
       "      <td>2020-06-27</td>\n",
       "    </tr>\n",
       "    <tr>\n",
       "      <th>6100000034</th>\n",
       "      <td>Gyeongsangnam-do</td>\n",
       "      <td>6100000384</td>\n",
       "      <td>2020-02-26</td>\n",
       "    </tr>\n",
       "    <tr>\n",
       "      <th>6100000035</th>\n",
       "      <td>Gyeongsangnam-do</td>\n",
       "      <td>6100000384</td>\n",
       "      <td>2020-02-26</td>\n",
       "    </tr>\n",
       "    <tr>\n",
       "      <th>6100000036</th>\n",
       "      <td>Gyeongsangnam-do</td>\n",
       "      <td>6100000384</td>\n",
       "      <td>2020-02-26</td>\n",
       "    </tr>\n",
       "  </tbody>\n",
       "</table>\n",
       "</div>"
      ],
      "text/plain": [
       "                    province             infected_by confirmed_date\n",
       "patient_id                                                         \n",
       "1000000003             Seoul              2002000001     2020-01-30\n",
       "1000000062             Seoul              2017000005     2020-02-28\n",
       "5000000022      Jeollabuk-do  1500000050, 1500000055     2020-06-17\n",
       "5100000022      Jeollanam-do                   12702     2020-06-27\n",
       "5100000023      Jeollanam-do                   12702     2020-06-27\n",
       "6100000034  Gyeongsangnam-do              6100000384     2020-02-26\n",
       "6100000035  Gyeongsangnam-do              6100000384     2020-02-26\n",
       "6100000036  Gyeongsangnam-do              6100000384     2020-02-26"
      ]
     },
     "execution_count": 2,
     "metadata": {},
     "output_type": "execute_result"
    }
   ],
   "source": [
    "# Want to see if I can find anything regarding cross province infections\n",
    "\n",
    "patient = pd.read_csv(\"./data/PatientInfo.csv\", index_col=\"patient_id\")\n",
    "\n",
    "# drop columns that I don't need for this\n",
    "patient = patient[[\"province\", \"infected_by\", \"confirmed_date\"]]\n",
    "\n",
    "# infected_by has some dirty data in it, identifying them here\n",
    "patient.index = patient.index.astype(str)\n",
    "\n",
    "patient[patient.infected_by.notnull() & ~patient.infected_by.isin(patient.index.values)]"
   ]
  },
  {
   "cell_type": "code",
   "execution_count": 3,
   "metadata": {},
   "outputs": [
    {
     "data": {
      "text/html": [
       "<div>\n",
       "<style scoped>\n",
       "    .dataframe tbody tr th:only-of-type {\n",
       "        vertical-align: middle;\n",
       "    }\n",
       "\n",
       "    .dataframe tbody tr th {\n",
       "        vertical-align: top;\n",
       "    }\n",
       "\n",
       "    .dataframe thead th {\n",
       "        text-align: right;\n",
       "    }\n",
       "</style>\n",
       "<table border=\"1\" class=\"dataframe\">\n",
       "  <thead>\n",
       "    <tr style=\"text-align: right;\">\n",
       "      <th></th>\n",
       "      <th>province</th>\n",
       "      <th>infected_by</th>\n",
       "      <th>confirmed_date</th>\n",
       "    </tr>\n",
       "    <tr>\n",
       "      <th>patient_id</th>\n",
       "      <th></th>\n",
       "      <th></th>\n",
       "      <th></th>\n",
       "    </tr>\n",
       "  </thead>\n",
       "  <tbody>\n",
       "  </tbody>\n",
       "</table>\n",
       "</div>"
      ],
      "text/plain": [
       "Empty DataFrame\n",
       "Columns: [province, infected_by, confirmed_date]\n",
       "Index: []"
      ]
     },
     "execution_count": 3,
     "metadata": {},
     "output_type": "execute_result"
    }
   ],
   "source": [
    "# Was able to find the proper fix for patient_id 1000000003\n",
    "# https://www.straitstimes.com/asia/east-asia/wuhan-virus-south-korea-reports-first-local-human-to-human-transmission\n",
    "patient.loc[\"1000000003\"].infected_by = \"2000000001\"\n",
    "\n",
    "# 1000000062 case was difficult to find any info on, and variants of 2017000005 didn't result in any patient\n",
    "# ids with reasonable dates.  I decided to convert this into a NaN\n",
    "patient.loc[\"1000000062\"].infected_by = np.nan\n",
    "\n",
    "# 5000000022 was simple to fix, this is the only case where there are 2 infected_by, and both 1500000050 and\n",
    "# 1500000055 have the same province and infection_case, which means that the graph wouldn't be affected if we\n",
    "# picked one\n",
    "patient.loc[\"5000000022\"].infected_by = \"1500000050\"\n",
    "\n",
    "# 5100000022 and 5100000023, no idea how to fix these.  There are 2 options: 1. Attribute it to 5100000021 as\n",
    "# it's the only other local case in a reasonable time frame, or, 2. Remove the attribution.  I will do 2 here.\n",
    "patient.loc[\"5100000022\"].infected_by = np.nan\n",
    "patient.loc[\"5100000023\"].infected_by = np.nan\n",
    "patient.loc[\"5100000022\"].infection_case = \"etc\"\n",
    "patient.loc[\"5100000023\"].infection_case = \"etc\"\n",
    "\n",
    "# The last 3 patients in Gyeongsangnam-do were amongst a huge list of people that were tested in affiliation\n",
    "# with the Shincheonji Church or in contact with them.  Seeing that members of the church were likely to be\n",
    "# tagged with infection_case = Shincheonji Church, I opted to assign them to be infected by a confirmed case\n",
    "# from the Shincheonji Church, rather than assigning them to the group.  Note: There was also a few affilited\n",
    "# with Geochang Church but these were the people confirmed or showed symtoms in Geochang-gun, so I ruled that\n",
    "# out.  Might be wrong but Shincheonji Church were responsible for majority of the spread during this period\n",
    "# that adding 3 cases to their name will not be significant anyways, sorry patient # 6100000028!\n",
    "\n",
    "patient.loc[\"6100000034\"].infected_by = \"6100000028\"\n",
    "patient.loc[\"6100000035\"].infected_by = \"6100000028\"\n",
    "patient.loc[\"6100000036\"].infected_by = \"6100000028\"\n",
    "\n",
    "# This should be empty now:\n",
    "patient[patient.infected_by.notnull() & ~patient.infected_by.isin(patient.index.values)]"
   ]
  },
  {
   "cell_type": "code",
   "execution_count": 4,
   "metadata": {},
   "outputs": [
    {
     "data": {
      "text/html": [
       "<div>\n",
       "<style scoped>\n",
       "    .dataframe tbody tr th:only-of-type {\n",
       "        vertical-align: middle;\n",
       "    }\n",
       "\n",
       "    .dataframe tbody tr th {\n",
       "        vertical-align: top;\n",
       "    }\n",
       "\n",
       "    .dataframe thead th {\n",
       "        text-align: right;\n",
       "    }\n",
       "</style>\n",
       "<table border=\"1\" class=\"dataframe\">\n",
       "  <thead>\n",
       "    <tr style=\"text-align: right;\">\n",
       "      <th></th>\n",
       "      <th>from_province</th>\n",
       "      <th>to_province</th>\n",
       "      <th>spread_date</th>\n",
       "    </tr>\n",
       "  </thead>\n",
       "  <tbody>\n",
       "    <tr>\n",
       "      <th>0</th>\n",
       "      <td>Gyeonggi-do</td>\n",
       "      <td>Seoul</td>\n",
       "      <td>2020-01-30</td>\n",
       "    </tr>\n",
       "    <tr>\n",
       "      <th>1</th>\n",
       "      <td>Gwangju</td>\n",
       "      <td>Jeollanam-do</td>\n",
       "      <td>2020-02-06</td>\n",
       "    </tr>\n",
       "    <tr>\n",
       "      <th>2</th>\n",
       "      <td>Daegu</td>\n",
       "      <td>Gyeongsangbuk-do</td>\n",
       "      <td>2020-02-19</td>\n",
       "    </tr>\n",
       "    <tr>\n",
       "      <th>3</th>\n",
       "      <td>Daegu</td>\n",
       "      <td>Gyeonggi-do</td>\n",
       "      <td>2020-02-21</td>\n",
       "    </tr>\n",
       "    <tr>\n",
       "      <th>4</th>\n",
       "      <td>Seoul</td>\n",
       "      <td>Gyeonggi-do</td>\n",
       "      <td>2020-02-22</td>\n",
       "    </tr>\n",
       "    <tr>\n",
       "      <th>...</th>\n",
       "      <td>...</td>\n",
       "      <td>...</td>\n",
       "      <td>...</td>\n",
       "    </tr>\n",
       "    <tr>\n",
       "      <th>180</th>\n",
       "      <td>Daejeon</td>\n",
       "      <td>Chungcheongnam-do</td>\n",
       "      <td>2020-06-24</td>\n",
       "    </tr>\n",
       "    <tr>\n",
       "      <th>181</th>\n",
       "      <td>Daejeon</td>\n",
       "      <td>Jeollabuk-do</td>\n",
       "      <td>2020-06-26</td>\n",
       "    </tr>\n",
       "    <tr>\n",
       "      <th>182</th>\n",
       "      <td>Seoul</td>\n",
       "      <td>Gyeonggi-do</td>\n",
       "      <td>2020-06-26</td>\n",
       "    </tr>\n",
       "    <tr>\n",
       "      <th>183</th>\n",
       "      <td>Gwangju</td>\n",
       "      <td>Jeollabuk-do</td>\n",
       "      <td>2020-06-28</td>\n",
       "    </tr>\n",
       "    <tr>\n",
       "      <th>184</th>\n",
       "      <td>Daejeon</td>\n",
       "      <td>Daegu</td>\n",
       "      <td>2020-06-28</td>\n",
       "    </tr>\n",
       "  </tbody>\n",
       "</table>\n",
       "<p>185 rows × 3 columns</p>\n",
       "</div>"
      ],
      "text/plain": [
       "    from_province        to_province spread_date\n",
       "0     Gyeonggi-do              Seoul  2020-01-30\n",
       "1         Gwangju       Jeollanam-do  2020-02-06\n",
       "2           Daegu   Gyeongsangbuk-do  2020-02-19\n",
       "3           Daegu        Gyeonggi-do  2020-02-21\n",
       "4           Seoul        Gyeonggi-do  2020-02-22\n",
       "..            ...                ...         ...\n",
       "180       Daejeon  Chungcheongnam-do  2020-06-24\n",
       "181       Daejeon       Jeollabuk-do  2020-06-26\n",
       "182         Seoul        Gyeonggi-do  2020-06-26\n",
       "183       Gwangju       Jeollabuk-do  2020-06-28\n",
       "184       Daejeon              Daegu  2020-06-28\n",
       "\n",
       "[185 rows x 3 columns]"
      ]
     },
     "execution_count": 4,
     "metadata": {},
     "output_type": "execute_result"
    }
   ],
   "source": [
    "cross_province_spread = patient.merge(patient, how=\"left\", right_index=True, left_on=\"infected_by\")\n",
    "cross_province_spread = cross_province_spread[(cross_province_spread.province_x != cross_province_spread.province_y) & cross_province_spread.province_y.notnull()].sort_values(by=\"confirmed_date_x\")\n",
    "cross_province_spread = cross_province_spread.rename(columns={\"province_y\": \"from_province\", \"province_x\": \"to_province\", \"confirmed_date_x\": \"spread_date\"}).reset_index()\n",
    "cross_province_spread = cross_province_spread[[\"from_province\", \"to_province\", \"spread_date\"]]\n",
    "cross_province_spread[\"spread_date\"] = cross_province_spread.spread_date.astype(\"datetime64[D]\")\n",
    "\n",
    "# cross_province_spread = cross_province_spread[[\"spread_date\",\"latitude_x\",\"longitude_x\",\"latitude_y\",\"longitude_y\"]]\n",
    "\n",
    "cross_province_spread"
   ]
  },
  {
   "cell_type": "code",
   "execution_count": 5,
   "metadata": {},
   "outputs": [],
   "source": [
    "# 185 cases of movement between provinces"
   ]
  },
  {
   "cell_type": "code",
   "execution_count": 6,
   "metadata": {},
   "outputs": [
    {
     "data": {
      "text/html": [
       "<div>\n",
       "<style scoped>\n",
       "    .dataframe tbody tr th:only-of-type {\n",
       "        vertical-align: middle;\n",
       "    }\n",
       "\n",
       "    .dataframe tbody tr th {\n",
       "        vertical-align: top;\n",
       "    }\n",
       "\n",
       "    .dataframe thead th {\n",
       "        text-align: right;\n",
       "    }\n",
       "</style>\n",
       "<table border=\"1\" class=\"dataframe\">\n",
       "  <thead>\n",
       "    <tr style=\"text-align: right;\">\n",
       "      <th></th>\n",
       "      <th>province</th>\n",
       "      <th>date</th>\n",
       "      <th>new_cases</th>\n",
       "    </tr>\n",
       "  </thead>\n",
       "  <tbody>\n",
       "    <tr>\n",
       "      <th>0</th>\n",
       "      <td>Busan</td>\n",
       "      <td>2020-01-21</td>\n",
       "      <td>0.0</td>\n",
       "    </tr>\n",
       "    <tr>\n",
       "      <th>1</th>\n",
       "      <td>Busan</td>\n",
       "      <td>2020-01-22</td>\n",
       "      <td>0.0</td>\n",
       "    </tr>\n",
       "    <tr>\n",
       "      <th>2</th>\n",
       "      <td>Busan</td>\n",
       "      <td>2020-01-23</td>\n",
       "      <td>0.0</td>\n",
       "    </tr>\n",
       "    <tr>\n",
       "      <th>3</th>\n",
       "      <td>Busan</td>\n",
       "      <td>2020-01-24</td>\n",
       "      <td>0.0</td>\n",
       "    </tr>\n",
       "    <tr>\n",
       "      <th>4</th>\n",
       "      <td>Busan</td>\n",
       "      <td>2020-01-25</td>\n",
       "      <td>0.0</td>\n",
       "    </tr>\n",
       "    <tr>\n",
       "      <th>...</th>\n",
       "      <td>...</td>\n",
       "      <td>...</td>\n",
       "      <td>...</td>\n",
       "    </tr>\n",
       "    <tr>\n",
       "      <th>2749</th>\n",
       "      <td>Ulsan</td>\n",
       "      <td>2020-06-26</td>\n",
       "      <td>0.0</td>\n",
       "    </tr>\n",
       "    <tr>\n",
       "      <th>2750</th>\n",
       "      <td>Ulsan</td>\n",
       "      <td>2020-06-27</td>\n",
       "      <td>0.0</td>\n",
       "    </tr>\n",
       "    <tr>\n",
       "      <th>2751</th>\n",
       "      <td>Ulsan</td>\n",
       "      <td>2020-06-28</td>\n",
       "      <td>0.0</td>\n",
       "    </tr>\n",
       "    <tr>\n",
       "      <th>2752</th>\n",
       "      <td>Ulsan</td>\n",
       "      <td>2020-06-29</td>\n",
       "      <td>0.0</td>\n",
       "    </tr>\n",
       "    <tr>\n",
       "      <th>2753</th>\n",
       "      <td>Ulsan</td>\n",
       "      <td>2020-06-30</td>\n",
       "      <td>0.0</td>\n",
       "    </tr>\n",
       "  </tbody>\n",
       "</table>\n",
       "<p>2754 rows × 3 columns</p>\n",
       "</div>"
      ],
      "text/plain": [
       "     province       date  new_cases\n",
       "0       Busan 2020-01-21        0.0\n",
       "1       Busan 2020-01-22        0.0\n",
       "2       Busan 2020-01-23        0.0\n",
       "3       Busan 2020-01-24        0.0\n",
       "4       Busan 2020-01-25        0.0\n",
       "...       ...        ...        ...\n",
       "2749    Ulsan 2020-06-26        0.0\n",
       "2750    Ulsan 2020-06-27        0.0\n",
       "2751    Ulsan 2020-06-28        0.0\n",
       "2752    Ulsan 2020-06-29        0.0\n",
       "2753    Ulsan 2020-06-30        0.0\n",
       "\n",
       "[2754 rows x 3 columns]"
      ]
     },
     "execution_count": 6,
     "metadata": {},
     "output_type": "execute_result"
    }
   ],
   "source": [
    "# Now let's get daily cases of each province, it'll be interesting to see if local cases increases after\n",
    "# virus spreads from province to province.\n",
    "\n",
    "province = pd.read_csv(\"./data/TimeProvince.csv\")\n",
    "\n",
    "# only use the useful columns\n",
    "province = province[[\"date\", \"province\", \"confirmed\"]]\n",
    "province[\"date\"] = province.date.astype(\"datetime64[D]\")\n",
    "\n",
    "province = province.pivot(index=\"date\", columns=\"province\", values=\"confirmed\")\n",
    "province = (province - province.shift(1))[1:]\n",
    "province = province.unstack().reset_index().rename(columns={0:\"new_cases\"})\n",
    "province[\"new_cases\"] = province.new_cases.clip(lower=0)\n",
    "province"
   ]
  },
  {
   "cell_type": "code",
   "execution_count": 7,
   "metadata": {},
   "outputs": [
    {
     "data": {
      "text/plain": [
       "<AxesSubplot:xlabel='date_diff'>"
      ]
     },
     "execution_count": 7,
     "metadata": {},
     "output_type": "execute_result"
    },
    {
     "data": {
      "image/png": "[encoded data removed]",
      "text/plain": [
       "<Figure size 432x288 with 1 Axes>"
      ]
     },
     "metadata": {
      "needs_background": "light"
     },
     "output_type": "display_data"
    }
   ],
   "source": [
    "df = cross_province_spread.reset_index().merge(province, left_on=\"to_province\", right_on=\"province\")\n",
    "df = df.merge(province, left_on=[\"province\",\"spread_date\"],right_on=[\"province\",\"date\"])\n",
    "df[\"date_diff\"] = (df.date_x - df.date_y).astype('timedelta64[D]')\n",
    "df = df[df.date_diff.between(-14,14)]\n",
    "df = df[[\"index\",\"date_diff\",\"new_cases_x\"]]\n",
    "df = df.pivot(index=\"index\", columns=\"date_diff\", values=\"new_cases_x\")\n",
    "(df.describe().T)[[\"mean\"]].plot()"
   ]
  },
  {
   "cell_type": "markdown",
   "metadata": {},
   "source": [
    "Hmm there seems to be an upward trend, but is this any different than any normal days? Do we see an uptick over 4 weeks all the time?"
   ]
  },
  {
   "cell_type": "code",
   "execution_count": 8,
   "metadata": {},
   "outputs": [
    {
     "data": {
      "text/plain": [
       "<AxesSubplot:xlabel='date_diff'>"
      ]
     },
     "execution_count": 8,
     "metadata": {},
     "output_type": "execute_result"
    },
    {
     "data": {
      "image/png": "[encoded data removed]",
      "text/plain": [
       "<Figure size 432x288 with 1 Axes>"
      ]
     },
     "metadata": {
      "needs_background": "light"
     },
     "output_type": "display_data"
    }
   ],
   "source": [
    "all_df = province.groupby(by=\"date\").mean().reset_index()\n",
    "all_df['key'] = 0\n",
    "all_df = all_df.merge(all_df, how='left', left_on=\"key\", right_on=\"key\")\n",
    "all_df[\"date_diff\"] = (all_df.date_y - all_df.date_x).astype('timedelta64[D]')\n",
    "all_df = all_df[all_df.date_diff.between(-14,14)]\n",
    "all_df = all_df[[\"date_diff\",\"new_cases_y\"]]\n",
    "all_df = all_df.groupby(by=\"date_diff\").mean()\n",
    "all_df.plot()"
   ]
  },
  {
   "cell_type": "markdown",
   "metadata": {},
   "source": [
    "Nope, doesn't look like it! (Average across all days SHOULD be pretty linear unless your start/end data is very different :P)\n",
    "\n",
    "How about FROM province?"
   ]
  },
  {
   "cell_type": "code",
   "execution_count": 9,
   "metadata": {},
   "outputs": [
    {
     "data": {
      "text/plain": [
       "<AxesSubplot:xlabel='date_diff'>"
      ]
     },
     "execution_count": 9,
     "metadata": {},
     "output_type": "execute_result"
    },
    {
     "data": {
      "image/png": "[encoded data removed]",
      "text/plain": [
       "<Figure size 432x288 with 1 Axes>"
      ]
     },
     "metadata": {
      "needs_background": "light"
     },
     "output_type": "display_data"
    }
   ],
   "source": [
    "f_df = cross_province_spread.reset_index().merge(province, left_on=\"from_province\", right_on=\"province\")\n",
    "f_df = f_df.merge(province, left_on=[\"province\",\"spread_date\"],right_on=[\"province\",\"date\"])\n",
    "f_df[\"date_diff\"] = (f_df.date_x - f_df.date_y).astype('timedelta64[D]')\n",
    "f_df = f_df[f_df.date_diff.between(-14,14)]\n",
    "f_df = f_df[[\"index\",\"date_diff\",\"new_cases_x\"]]\n",
    "f_df = f_df.pivot(index=\"index\", columns=\"date_diff\", values=\"new_cases_x\")\n",
    "(f_df.describe().T)[[\"mean\"]].plot()"
   ]
  },
  {
   "cell_type": "code",
   "execution_count": 10,
   "metadata": {},
   "outputs": [
    {
     "data": {
      "text/plain": [
       "<AxesSubplot:xlabel='date_diff'>"
      ]
     },
     "execution_count": 10,
     "metadata": {},
     "output_type": "execute_result"
    },
    {
     "data": {
      "image/png": "[encoded data removed]",
      "text/plain": [
       "<Figure size 720x432 with 1 Axes>"
      ]
     },
     "metadata": {
      "needs_background": "light"
     },
     "output_type": "display_data"
    },
    {
     "data": {
      "image/png": "[encoded data removed]",
      "text/plain": [
       "<Figure size 720x432 with 1 Axes>"
      ]
     },
     "metadata": {
      "needs_background": "light"
     },
     "output_type": "display_data"
    }
   ],
   "source": [
    "compare_df = pd.concat([all_df, (df.describe().T)[[\"mean\"]]], axis=1)\n",
    "compare_df = compare_df.rename(columns={\"new_cases_y\":\"all_dates\",\"mean\":\"to_province_dates\"})\n",
    "compare_df.plot(figsize=(10,6))\n",
    "compare_df = pd.concat([compare_df, (f_df.describe().T)[[\"mean\"]]], axis=1)\n",
    "compare_df = compare_df.rename(columns={\"new_cases_y\":\"all_dates\",\"mean\":\"from_province_dates\"})\n",
    "compare_df.plot(figsize=(10,6))"
   ]
  },
  {
   "cell_type": "markdown",
   "metadata": {},
   "source": [
    "I was surprised to find nothing too interesting in regards to the \"to_province\" data, but \"from_province\" turned out to be interesting.  On average, people are much more likely to spread cross-province around 7 days after an increase of cases.  This actually makes a lot of sense because people may not be as careful when a new outbreak hits when there are very few cases.  Factor in the incubation period and you'd end up with people unknowingly spreading COVID around.  I wonder if this applies to non-cross-province infections as well. Hm......"
   ]
  }
 ],
 "metadata": {
  "kernelspec": {
   "display_name": "Python 3",
   "language": "python",
   "name": "python3"
  },
  "language_info": {
   "codemirror_mode": {
    "name": "ipython",
    "version": 3
   },
   "file_extension": ".py",
   "mimetype": "text/x-python",
   "name": "python",
   "nbconvert_exporter": "python",
   "pygments_lexer": "ipython3",
   "version": "3.8.5"
  }
 },
 "nbformat": 4,
 "nbformat_minor": 4
}
